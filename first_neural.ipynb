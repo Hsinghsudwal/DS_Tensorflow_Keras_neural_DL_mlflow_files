{
  "nbformat": 4,
  "nbformat_minor": 0,
  "metadata": {
    "colab": {
      "provenance": []
    },
    "kernelspec": {
      "name": "python3",
      "display_name": "Python 3"
    },
    "language_info": {
      "name": "python"
    }
  },
  "cells": [
    {
      "cell_type": "markdown",
      "source": [
        "Define the Model: Select the type of model and its architecture.\n",
        "Compile the Model: Choose the loss function, optimizer, and metrics.\n",
        "Fit the Model: Train the model on your dataset.\n",
        "Evaluate the Model: Assess the model’s performance on unseen data.\n",
        "Make Predictions: Use the trained model to make predictions on new data."
      ],
      "metadata": {
        "id": "SNkZb07vsdlZ"
      }
    },
    {
      "cell_type": "code",
      "source": [
        "# Practical Use Case: Predicting Heart Disease"
      ],
      "metadata": {
        "id": "wKK_7IGasZVV"
      },
      "execution_count": 1,
      "outputs": []
    },
    {
      "cell_type": "code",
      "source": [
        "# Step 1: Explore and Preprocess the Data\n",
        "import pandas as pd\n",
        "\n",
        "# Load the dataset\n",
        "df = pd.read_csv('https://raw.githubusercontent.com/fenago/deep-learning-essentials/main/HeartDiseaseTrain-Test.csv')\n",
        "\n",
        "# Display the first few rows of the dataset\n",
        "print(df.head())\n",
        "\n",
        "# Display the column names\n",
        "print(df.columns)"
      ],
      "metadata": {
        "colab": {
          "base_uri": "https://localhost:8080/"
        },
        "id": "1tsfNQZYsZbD",
        "outputId": "27a3e607-3764-4afc-de57-e00af6e7db55"
      },
      "execution_count": 3,
      "outputs": [
        {
          "output_type": "stream",
          "name": "stdout",
          "text": [
            "   age     sex chest_pain_type  resting_blood_pressure  cholestoral  \\\n",
            "0   52    Male  Typical angina                     125          212   \n",
            "1   53    Male  Typical angina                     140          203   \n",
            "2   70    Male  Typical angina                     145          174   \n",
            "3   61    Male  Typical angina                     148          203   \n",
            "4   62  Female  Typical angina                     138          294   \n",
            "\n",
            "      fasting_blood_sugar               rest_ecg  Max_heart_rate  \\\n",
            "0    Lower than 120 mg/ml  ST-T wave abnormality             168   \n",
            "1  Greater than 120 mg/ml                 Normal             155   \n",
            "2    Lower than 120 mg/ml  ST-T wave abnormality             125   \n",
            "3    Lower than 120 mg/ml  ST-T wave abnormality             161   \n",
            "4  Greater than 120 mg/ml  ST-T wave abnormality             106   \n",
            "\n",
            "  exercise_induced_angina  oldpeak        slope vessels_colored_by_flourosopy  \\\n",
            "0                      No      1.0  Downsloping                           Two   \n",
            "1                     Yes      3.1    Upsloping                          Zero   \n",
            "2                     Yes      2.6    Upsloping                          Zero   \n",
            "3                      No      0.0  Downsloping                           One   \n",
            "4                      No      1.9         Flat                         Three   \n",
            "\n",
            "         thalassemia  target  \n",
            "0  Reversable Defect       0  \n",
            "1  Reversable Defect       0  \n",
            "2  Reversable Defect       0  \n",
            "3  Reversable Defect       0  \n",
            "4       Fixed Defect       0  \n",
            "Index(['age', 'sex', 'chest_pain_type', 'resting_blood_pressure',\n",
            "       'cholestoral', 'fasting_blood_sugar', 'rest_ecg', 'Max_heart_rate',\n",
            "       'exercise_induced_angina', 'oldpeak', 'slope',\n",
            "       'vessels_colored_by_flourosopy', 'thalassemia', 'target'],\n",
            "      dtype='object')\n"
          ]
        }
      ]
    },
    {
      "cell_type": "code",
      "source": [],
      "metadata": {
        "id": "mzw8Atx8toJx"
      },
      "execution_count": null,
      "outputs": []
    },
    {
      "cell_type": "code",
      "source": [
        "import pandas as pd\n",
        "from sklearn.preprocessing import LabelEncoder\n",
        "\n",
        "# Handle missing values if necessary\n",
        "df = df.dropna()\n",
        "\n",
        "# Separate input features and target variable\n",
        "X = df.drop(columns=['target'])  # 'class' is your target column\n",
        "y = df['target'].values\n",
        "\n",
        "# Encode the categorical features in X\n",
        "X = pd.get_dummies(X, drop_first=True)\n",
        "\n",
        "# Encode the binary target variable y\n",
        "label_encoder = LabelEncoder()\n",
        "y = label_encoder.fit_transform(y)  # use this for binary classification\n",
        "\n",
        "n_features = X.shape[1]\n",
        "# y will now be 0 for one class (e.g., 'good') and 1 for the other class (e.g., 'bad')"
      ],
      "metadata": {
        "id": "AG6Cc9kRsZjH"
      },
      "execution_count": 4,
      "outputs": []
    },
    {
      "cell_type": "code",
      "source": [
        "# Step 2: Split the Data\n",
        "from sklearn.model_selection import train_test_split\n",
        "from sklearn.preprocessing import LabelEncoder\n",
        "\n",
        "# Split into train and test datasets\n",
        "X_train, X_test, y_train, y_test = train_test_split(X, y, test_size=0.33, random_state=42)"
      ],
      "metadata": {
        "id": "bjcKi-hNsZph"
      },
      "execution_count": 5,
      "outputs": []
    },
    {
      "cell_type": "code",
      "source": [
        "# Step 3: Define and Compile the Model\n",
        "from tensorflow.keras import Sequential\n",
        "from tensorflow.keras.layers import Dense\n",
        "\n",
        "# Define the model\n",
        "model = Sequential()\n",
        "model.add(Dense(10, activation='relu', input_shape=(n_features,)))\n",
        "model.add(Dense(8, activation='relu'))\n",
        "model.add(Dense(1, activation='sigmoid'))\n",
        "\n",
        "# Compile the model\n",
        "model.compile(optimizer='adam', loss='binary_crossentropy', metrics=['accuracy'])"
      ],
      "metadata": {
        "colab": {
          "base_uri": "https://localhost:8080/"
        },
        "id": "YlxxfPDZsZuf",
        "outputId": "d4789ee1-ffd7-440e-8591-69eaedf55b00"
      },
      "execution_count": 6,
      "outputs": [
        {
          "output_type": "stream",
          "name": "stderr",
          "text": [
            "/usr/local/lib/python3.10/dist-packages/keras/src/layers/core/dense.py:87: UserWarning: Do not pass an `input_shape`/`input_dim` argument to a layer. When using Sequential models, prefer using an `Input(shape)` object as the first layer in the model instead.\n",
            "  super().__init__(activity_regularizer=activity_regularizer, **kwargs)\n"
          ]
        }
      ]
    },
    {
      "cell_type": "code",
      "source": [
        "# Step 4: Fit the Model\n",
        "model.fit(X_train, y_train, epochs=150, batch_size=32, verbose=0)"
      ],
      "metadata": {
        "colab": {
          "base_uri": "https://localhost:8080/"
        },
        "id": "V4NY7ay_sZxn",
        "outputId": "5a2135ac-a3d8-416e-b756-44f66ca7f815"
      },
      "execution_count": 7,
      "outputs": [
        {
          "output_type": "execute_result",
          "data": {
            "text/plain": [
              "<keras.src.callbacks.history.History at 0x7aad352eb520>"
            ]
          },
          "metadata": {},
          "execution_count": 7
        }
      ]
    },
    {
      "cell_type": "code",
      "source": [
        "# Step 5: Evaluate the Model\n",
        "loss, acc = model.evaluate(X_test, y_test, verbose=0)\n",
        "print('Test Accuracy: %.3f' % acc)"
      ],
      "metadata": {
        "colab": {
          "base_uri": "https://localhost:8080/"
        },
        "id": "hKBxWO1QsaG8",
        "outputId": "3ca710d4-62cf-4920-e33e-953f69c3522c"
      },
      "execution_count": 8,
      "outputs": [
        {
          "output_type": "stream",
          "name": "stdout",
          "text": [
            "Test Accuracy: 0.802\n"
          ]
        }
      ]
    },
    {
      "cell_type": "code",
      "source": [
        "# Step 6: Make Predictions\n",
        "row = [your_row_of_data_here] # or copy a row from your existing data and modify\n",
        "yhat = model.predict([row])\n",
        "print('Predicted: %.3f' % yhat)"
      ],
      "metadata": {
        "id": "YfRTR4FgsaLW"
      },
      "execution_count": null,
      "outputs": []
    },
    {
      "cell_type": "code",
      "source": [
        "import numpy as np\n",
        "\n",
        "# Constructing the input row\n",
        "row = np.array([\n",
        "    63,  # 'age'\n",
        "    145,  # 'resting_blood_pressure'\n",
        "    233,  # 'cholesterol'\n",
        "    150,  # 'Max_heart_rate'\n",
        "    2.3,  # 'oldpeak'\n",
        "    1,  # 'sex_Male' (1 for Male, 0 for Female)\n",
        "    0,  # 'chest_pain_type_Atypical angina'\n",
        "    0,  # 'chest_pain_type_Non-anginal pain'\n",
        "    1,  # 'chest_pain_type_Typical angina'\n",
        "    0,  # 'fasting_blood_sugar_Lower than 120 mg/ml'\n",
        "    0,  # 'rest_ecg_No'\n",
        "    1,  # 'rest_ecg_ST wave abnormality'\n",
        "    0,  # 'exercise_induced_angina_Yes'\n",
        "    0,  # 'slope_Flat'\n",
        "    1,  # 'slope_Upsloping'\n",
        "    0,  # 'vessels_colored_by_flourosopy_One'\n",
        "    0,  # 'vessels_colored_by_flourosopy_Three'\n",
        "    1,  # 'vessels_colored_by_flourosopy_Two'\n",
        "    0,  # 'vessels_colored_by_flourosopy_Zero'\n",
        "    0,  # 'thalassemia_No'\n",
        "    1,  # 'thalassemia_Normal'\n",
        "    0   # 'thalassemia_Reversable Defect'\n",
        "]).reshape(1, -1)\n",
        "\n",
        "# Make the prediction\n",
        "yhat = model.predict(row)\n",
        "print('Predicted: %.3f' % yhat[0][0])"
      ],
      "metadata": {
        "colab": {
          "base_uri": "https://localhost:8080/"
        },
        "id": "Sqi3v_5nsaQO",
        "outputId": "7a038a05-2f5c-4d01-8cce-5ea2148b56a1"
      },
      "execution_count": 9,
      "outputs": [
        {
          "output_type": "stream",
          "name": "stdout",
          "text": [
            "\u001b[1m1/1\u001b[0m \u001b[32m━━━━━━━━━━━━━━━━━━━━\u001b[0m\u001b[37m\u001b[0m \u001b[1m0s\u001b[0m 52ms/step\n",
            "Predicted: 0.135\n"
          ]
        }
      ]
    },
    {
      "cell_type": "code",
      "source": [
        "# Flask-deployment"
      ],
      "metadata": {
        "id": "y6L1pOjct-0_"
      },
      "execution_count": null,
      "outputs": []
    }
  ]
}