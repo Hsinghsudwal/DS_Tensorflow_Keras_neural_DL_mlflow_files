{
  "nbformat": 4,
  "nbformat_minor": 0,
  "metadata": {
    "colab": {
      "provenance": []
    },
    "kernelspec": {
      "name": "python3",
      "display_name": "Python 3"
    },
    "language_info": {
      "name": "python"
    }
  },
  "cells": [
    {
      "cell_type": "code",
      "execution_count": null,
      "metadata": {
        "id": "N1tn_T5WCQgM"
      },
      "outputs": [],
      "source": [
        "# Bayesian Optimization with Random Forest"
      ]
    },
    {
      "cell_type": "code",
      "source": [
        "!pip install bayesian-optimization scikit-learn pandas"
      ],
      "metadata": {
        "colab": {
          "base_uri": "https://localhost:8080/"
        },
        "id": "VrK1XSIiEucv",
        "outputId": "381d22ac-86c5-45cf-c3c1-c6745ed05036"
      },
      "execution_count": 7,
      "outputs": [
        {
          "output_type": "stream",
          "name": "stdout",
          "text": [
            "Collecting bayesian-optimization\n",
            "  Downloading bayesian_optimization-1.5.1-py3-none-any.whl.metadata (16 kB)\n",
            "Requirement already satisfied: scikit-learn in /usr/local/lib/python3.10/dist-packages (1.3.2)\n",
            "Requirement already satisfied: pandas in /usr/local/lib/python3.10/dist-packages (2.1.4)\n",
            "Collecting colorama<0.5.0,>=0.4.6 (from bayesian-optimization)\n",
            "  Downloading colorama-0.4.6-py2.py3-none-any.whl.metadata (17 kB)\n",
            "Requirement already satisfied: numpy>=1.25 in /usr/local/lib/python3.10/dist-packages (from bayesian-optimization) (1.26.4)\n",
            "Requirement already satisfied: scipy<2.0.0,>=1.0.0 in /usr/local/lib/python3.10/dist-packages (from bayesian-optimization) (1.13.1)\n",
            "Requirement already satisfied: joblib>=1.1.1 in /usr/local/lib/python3.10/dist-packages (from scikit-learn) (1.4.2)\n",
            "Requirement already satisfied: threadpoolctl>=2.0.0 in /usr/local/lib/python3.10/dist-packages (from scikit-learn) (3.5.0)\n",
            "Requirement already satisfied: python-dateutil>=2.8.2 in /usr/local/lib/python3.10/dist-packages (from pandas) (2.8.2)\n",
            "Requirement already satisfied: pytz>=2020.1 in /usr/local/lib/python3.10/dist-packages (from pandas) (2024.1)\n",
            "Requirement already satisfied: tzdata>=2022.1 in /usr/local/lib/python3.10/dist-packages (from pandas) (2024.1)\n",
            "Requirement already satisfied: six>=1.5 in /usr/local/lib/python3.10/dist-packages (from python-dateutil>=2.8.2->pandas) (1.16.0)\n",
            "Downloading bayesian_optimization-1.5.1-py3-none-any.whl (28 kB)\n",
            "Downloading colorama-0.4.6-py2.py3-none-any.whl (25 kB)\n",
            "Installing collected packages: colorama, bayesian-optimization\n",
            "Successfully installed bayesian-optimization-1.5.1 colorama-0.4.6\n"
          ]
        }
      ]
    },
    {
      "cell_type": "code",
      "source": [
        "import pandas as pd\n",
        "from sklearn.ensemble import RandomForestRegressor\n",
        "from sklearn.model_selection import cross_val_score, train_test_split\n",
        "from bayes_opt import BayesianOptimization"
      ],
      "metadata": {
        "id": "ah4z285IEz7p"
      },
      "execution_count": 8,
      "outputs": []
    },
    {
      "cell_type": "code",
      "source": [
        "data = pd.read_csv('https://archive.ics.uci.edu/ml/machine-learning-databases/wine-quality/winequality-red.csv', sep=';')\n",
        "X = data.drop('quality', axis=1)\n",
        "y = data['quality']\n",
        "X_train, X_test, y_train, y_test = train_test_split(X, y, test_size=0.2, random_state=42)"
      ],
      "metadata": {
        "id": "tL9Vqv08E1xO"
      },
      "execution_count": 9,
      "outputs": []
    },
    {
      "cell_type": "code",
      "source": [
        "def objective(n_estimators, max_depth, min_samples_split, max_features):\n",
        "    model = RandomForestRegressor(n_estimators=int(n_estimators),\n",
        "                                  max_depth=int(max_depth),\n",
        "                                  min_samples_split=int(min_samples_split),\n",
        "                                  max_features=min(max_features, 0.999),  # Fraction, must be <= 1.0\n",
        "                                  random_state=42)\n",
        "\n",
        "    return -1.0 * cross_val_score(model, X_train, y_train, cv=3, scoring=\"neg_mean_squared_error\").mean()"
      ],
      "metadata": {
        "id": "Hm_vMfSrE4Nf"
      },
      "execution_count": 10,
      "outputs": []
    },
    {
      "cell_type": "code",
      "source": [
        "# Bounds for hyperparameters\n",
        "param_bounds = {\n",
        "    'n_estimators': (10, 250),\n",
        "    'max_depth': (1, 50),\n",
        "    'min_samples_split': (2, 25),\n",
        "    'max_features': (0.1, 0.999),\n",
        "}"
      ],
      "metadata": {
        "id": "WfFvU_qzE67N"
      },
      "execution_count": 11,
      "outputs": []
    },
    {
      "cell_type": "code",
      "source": [
        "optimizer = BayesianOptimization(f=objective, pbounds=param_bounds, random_state=42)\n",
        "optimizer.maximize(init_points=5, n_iter=15)"
      ],
      "metadata": {
        "colab": {
          "base_uri": "https://localhost:8080/"
        },
        "id": "VfegOCE4E85P",
        "outputId": "46a57c16-c44e-431c-b150-c539d1bc9323"
      },
      "execution_count": 12,
      "outputs": [
        {
          "output_type": "stream",
          "name": "stdout",
          "text": [
            "|   iter    |  target   | max_depth | max_fe... | min_sa... | n_esti... |\n",
            "-------------------------------------------------------------------------\n",
            "| \u001b[39m1        \u001b[39m | \u001b[39m0.3948   \u001b[39m | \u001b[39m19.35    \u001b[39m | \u001b[39m0.9547   \u001b[39m | \u001b[39m18.84    \u001b[39m | \u001b[39m153.7    \u001b[39m |\n",
            "| \u001b[35m2        \u001b[39m | \u001b[35m0.3985   \u001b[39m | \u001b[35m8.645    \u001b[39m | \u001b[35m0.2402   \u001b[39m | \u001b[35m3.336    \u001b[39m | \u001b[35m217.9    \u001b[39m |\n",
            "| \u001b[39m3        \u001b[39m | \u001b[39m0.3797   \u001b[39m | \u001b[39m30.45    \u001b[39m | \u001b[39m0.7366   \u001b[39m | \u001b[39m2.473    \u001b[39m | \u001b[39m242.8    \u001b[39m |\n",
            "| \u001b[39m4        \u001b[39m | \u001b[39m0.3808   \u001b[39m | \u001b[39m41.79    \u001b[39m | \u001b[39m0.2909   \u001b[39m | \u001b[39m6.182    \u001b[39m | \u001b[39m54.02    \u001b[39m |\n",
            "| \u001b[39m5        \u001b[39m | \u001b[39m0.3886   \u001b[39m | \u001b[39m15.91    \u001b[39m | \u001b[39m0.5718   \u001b[39m | \u001b[39m11.93    \u001b[39m | \u001b[39m79.89    \u001b[39m |\n",
            "| \u001b[39m6        \u001b[39m | \u001b[39m0.3925   \u001b[39m | \u001b[39m8.632    \u001b[39m | \u001b[39m0.3537   \u001b[39m | \u001b[39m4.404    \u001b[39m | \u001b[39m217.6    \u001b[39m |\n",
            "| \u001b[35m7        \u001b[39m | \u001b[35m0.4288   \u001b[39m | \u001b[35m7.871    \u001b[39m | \u001b[35m0.1      \u001b[39m | \u001b[35m2.103    \u001b[39m | \u001b[35m218.3    \u001b[39m |\n",
            "| \u001b[39m8        \u001b[39m | \u001b[39m0.4288   \u001b[39m | \u001b[39m7.204    \u001b[39m | \u001b[39m0.1      \u001b[39m | \u001b[39m2.0      \u001b[39m | \u001b[39m218.8    \u001b[39m |\n",
            "| \u001b[35m9        \u001b[39m | \u001b[35m0.4389   \u001b[39m | \u001b[35m6.551    \u001b[39m | \u001b[35m0.1      \u001b[39m | \u001b[35m2.0      \u001b[39m | \u001b[35m217.2    \u001b[39m |\n",
            "| \u001b[35m10       \u001b[39m | \u001b[35m0.469    \u001b[39m | \u001b[35m4.289    \u001b[39m | \u001b[35m0.1      \u001b[39m | \u001b[35m2.0      \u001b[39m | \u001b[35m216.5    \u001b[39m |\n",
            "| \u001b[35m11       \u001b[39m | \u001b[35m0.4989   \u001b[39m | \u001b[35m3.357    \u001b[39m | \u001b[35m0.1      \u001b[39m | \u001b[35m2.0      \u001b[39m | \u001b[35m214.5    \u001b[39m |\n",
            "| \u001b[35m12       \u001b[39m | \u001b[35m0.5087   \u001b[39m | \u001b[35m1.0      \u001b[39m | \u001b[35m0.999    \u001b[39m | \u001b[35m2.0      \u001b[39m | \u001b[35m214.5    \u001b[39m |\n",
            "| \u001b[35m13       \u001b[39m | \u001b[35m0.5815   \u001b[39m | \u001b[35m1.0      \u001b[39m | \u001b[35m0.1      \u001b[39m | \u001b[35m2.0      \u001b[39m | \u001b[35m210.8    \u001b[39m |\n",
            "| \u001b[39m14       \u001b[39m | \u001b[39m0.5087   \u001b[39m | \u001b[39m1.0      \u001b[39m | \u001b[39m0.999    \u001b[39m | \u001b[39m2.0      \u001b[39m | \u001b[39m207.2    \u001b[39m |\n",
            "| \u001b[39m15       \u001b[39m | \u001b[39m0.5815   \u001b[39m | \u001b[39m1.0      \u001b[39m | \u001b[39m0.1      \u001b[39m | \u001b[39m5.341    \u001b[39m | \u001b[39m210.7    \u001b[39m |\n",
            "| \u001b[39m16       \u001b[39m | \u001b[39m0.5814   \u001b[39m | \u001b[39m1.0      \u001b[39m | \u001b[39m0.1      \u001b[39m | \u001b[39m10.62    \u001b[39m | \u001b[39m209.8    \u001b[39m |\n",
            "| \u001b[39m17       \u001b[39m | \u001b[39m0.4552   \u001b[39m | \u001b[39m5.42     \u001b[39m | \u001b[39m0.1      \u001b[39m | \u001b[39m10.32    \u001b[39m | \u001b[39m207.4    \u001b[39m |\n",
            "| \u001b[39m18       \u001b[39m | \u001b[39m0.5803   \u001b[39m | \u001b[39m1.0      \u001b[39m | \u001b[39m0.1      \u001b[39m | \u001b[39m11.2     \u001b[39m | \u001b[39m214.2    \u001b[39m |\n",
            "| \u001b[39m19       \u001b[39m | \u001b[39m0.5805   \u001b[39m | \u001b[39m1.0      \u001b[39m | \u001b[39m0.1      \u001b[39m | \u001b[39m16.54    \u001b[39m | \u001b[39m212.1    \u001b[39m |\n",
            "| \u001b[39m20       \u001b[39m | \u001b[39m0.5802   \u001b[39m | \u001b[39m1.0      \u001b[39m | \u001b[39m0.1      \u001b[39m | \u001b[39m17.88    \u001b[39m | \u001b[39m218.5    \u001b[39m |\n",
            "=========================================================================\n"
          ]
        }
      ]
    },
    {
      "cell_type": "code",
      "source": [
        "best_params = optimizer.max['params']\n",
        "best_params"
      ],
      "metadata": {
        "colab": {
          "base_uri": "https://localhost:8080/"
        },
        "id": "cBDl_bJSE-f6",
        "outputId": "7bf194a3-3ccf-4aa3-e489-cb0ec28d9209"
      },
      "execution_count": 13,
      "outputs": [
        {
          "output_type": "execute_result",
          "data": {
            "text/plain": [
              "{'max_depth': 1.0,\n",
              " 'max_features': 0.1,\n",
              " 'min_samples_split': 2.0,\n",
              " 'n_estimators': 210.79678776201987}"
            ]
          },
          "metadata": {},
          "execution_count": 13
        }
      ]
    },
    {
      "cell_type": "code",
      "source": [
        "final_model = RandomForestRegressor(n_estimators=int(best_params['n_estimators']),\n",
        "                                   max_depth=int(best_params['max_depth']),\n",
        "                                   min_samples_split=int(best_params['min_samples_split']),\n",
        "                                   max_features=best_params['max_features'],\n",
        "                                   random_state=42)\n",
        "final_model.fit(X_train, y_train)\n",
        "score = final_model.score(X_test, y_test)\n",
        "print(f\"Test R^2 Score: {score}\")"
      ],
      "metadata": {
        "colab": {
          "base_uri": "https://localhost:8080/"
        },
        "id": "XwQG7eerFFi7",
        "outputId": "163ef6bd-0ccc-4969-8f1c-db9b0d565798"
      },
      "execution_count": 14,
      "outputs": [
        {
          "output_type": "stream",
          "name": "stdout",
          "text": [
            "Test R^2 Score: 0.11323487205843263\n"
          ]
        }
      ]
    },
    {
      "cell_type": "code",
      "source": [
        "best_params_formatted = {\n",
        "    'n_estimators': int(best_params['n_estimators']),\n",
        "    'max_depth': int(best_params['max_depth']),\n",
        "    'min_samples_split': int(best_params['min_samples_split']),\n",
        "    'max_features': best_params['max_features']\n",
        "}\n",
        "best_params_formatted"
      ],
      "metadata": {
        "colab": {
          "base_uri": "https://localhost:8080/"
        },
        "id": "MvJGVLczFH8l",
        "outputId": "6f2d3195-3766-4651-f0b2-c83b401474f6"
      },
      "execution_count": 16,
      "outputs": [
        {
          "output_type": "execute_result",
          "data": {
            "text/plain": [
              "{'n_estimators': 210,\n",
              " 'max_depth': 1,\n",
              " 'min_samples_split': 2,\n",
              " 'max_features': 0.1}"
            ]
          },
          "metadata": {},
          "execution_count": 16
        }
      ]
    },
    {
      "cell_type": "code",
      "source": [
        "optimized_rf = RandomForestRegressor(**best_params_formatted, random_state=42)"
      ],
      "metadata": {
        "id": "M7rvP3shFKgC"
      },
      "execution_count": 17,
      "outputs": []
    },
    {
      "cell_type": "code",
      "source": [
        "optimized_rf.fit(X_train, y_train)"
      ],
      "metadata": {
        "id": "AFiMrL0jFRW7",
        "outputId": "0ed7d3a0-2df8-4160-8bf0-aaf280e20d8d",
        "colab": {
          "base_uri": "https://localhost:8080/",
          "height": 92
        }
      },
      "execution_count": 18,
      "outputs": [
        {
          "output_type": "execute_result",
          "data": {
            "text/plain": [
              "RandomForestRegressor(max_depth=1, max_features=0.1, n_estimators=210,\n",
              "                      random_state=42)"
            ],
            "text/html": [
              "<style>#sk-container-id-1 {color: black;}#sk-container-id-1 pre{padding: 0;}#sk-container-id-1 div.sk-toggleable {background-color: white;}#sk-container-id-1 label.sk-toggleable__label {cursor: pointer;display: block;width: 100%;margin-bottom: 0;padding: 0.3em;box-sizing: border-box;text-align: center;}#sk-container-id-1 label.sk-toggleable__label-arrow:before {content: \"▸\";float: left;margin-right: 0.25em;color: #696969;}#sk-container-id-1 label.sk-toggleable__label-arrow:hover:before {color: black;}#sk-container-id-1 div.sk-estimator:hover label.sk-toggleable__label-arrow:before {color: black;}#sk-container-id-1 div.sk-toggleable__content {max-height: 0;max-width: 0;overflow: hidden;text-align: left;background-color: #f0f8ff;}#sk-container-id-1 div.sk-toggleable__content pre {margin: 0.2em;color: black;border-radius: 0.25em;background-color: #f0f8ff;}#sk-container-id-1 input.sk-toggleable__control:checked~div.sk-toggleable__content {max-height: 200px;max-width: 100%;overflow: auto;}#sk-container-id-1 input.sk-toggleable__control:checked~label.sk-toggleable__label-arrow:before {content: \"▾\";}#sk-container-id-1 div.sk-estimator input.sk-toggleable__control:checked~label.sk-toggleable__label {background-color: #d4ebff;}#sk-container-id-1 div.sk-label input.sk-toggleable__control:checked~label.sk-toggleable__label {background-color: #d4ebff;}#sk-container-id-1 input.sk-hidden--visually {border: 0;clip: rect(1px 1px 1px 1px);clip: rect(1px, 1px, 1px, 1px);height: 1px;margin: -1px;overflow: hidden;padding: 0;position: absolute;width: 1px;}#sk-container-id-1 div.sk-estimator {font-family: monospace;background-color: #f0f8ff;border: 1px dotted black;border-radius: 0.25em;box-sizing: border-box;margin-bottom: 0.5em;}#sk-container-id-1 div.sk-estimator:hover {background-color: #d4ebff;}#sk-container-id-1 div.sk-parallel-item::after {content: \"\";width: 100%;border-bottom: 1px solid gray;flex-grow: 1;}#sk-container-id-1 div.sk-label:hover label.sk-toggleable__label {background-color: #d4ebff;}#sk-container-id-1 div.sk-serial::before {content: \"\";position: absolute;border-left: 1px solid gray;box-sizing: border-box;top: 0;bottom: 0;left: 50%;z-index: 0;}#sk-container-id-1 div.sk-serial {display: flex;flex-direction: column;align-items: center;background-color: white;padding-right: 0.2em;padding-left: 0.2em;position: relative;}#sk-container-id-1 div.sk-item {position: relative;z-index: 1;}#sk-container-id-1 div.sk-parallel {display: flex;align-items: stretch;justify-content: center;background-color: white;position: relative;}#sk-container-id-1 div.sk-item::before, #sk-container-id-1 div.sk-parallel-item::before {content: \"\";position: absolute;border-left: 1px solid gray;box-sizing: border-box;top: 0;bottom: 0;left: 50%;z-index: -1;}#sk-container-id-1 div.sk-parallel-item {display: flex;flex-direction: column;z-index: 1;position: relative;background-color: white;}#sk-container-id-1 div.sk-parallel-item:first-child::after {align-self: flex-end;width: 50%;}#sk-container-id-1 div.sk-parallel-item:last-child::after {align-self: flex-start;width: 50%;}#sk-container-id-1 div.sk-parallel-item:only-child::after {width: 0;}#sk-container-id-1 div.sk-dashed-wrapped {border: 1px dashed gray;margin: 0 0.4em 0.5em 0.4em;box-sizing: border-box;padding-bottom: 0.4em;background-color: white;}#sk-container-id-1 div.sk-label label {font-family: monospace;font-weight: bold;display: inline-block;line-height: 1.2em;}#sk-container-id-1 div.sk-label-container {text-align: center;}#sk-container-id-1 div.sk-container {/* jupyter's `normalize.less` sets `[hidden] { display: none; }` but bootstrap.min.css set `[hidden] { display: none !important; }` so we also need the `!important` here to be able to override the default hidden behavior on the sphinx rendered scikit-learn.org. See: https://github.com/scikit-learn/scikit-learn/issues/21755 */display: inline-block !important;position: relative;}#sk-container-id-1 div.sk-text-repr-fallback {display: none;}</style><div id=\"sk-container-id-1\" class=\"sk-top-container\"><div class=\"sk-text-repr-fallback\"><pre>RandomForestRegressor(max_depth=1, max_features=0.1, n_estimators=210,\n",
              "                      random_state=42)</pre><b>In a Jupyter environment, please rerun this cell to show the HTML representation or trust the notebook. <br />On GitHub, the HTML representation is unable to render, please try loading this page with nbviewer.org.</b></div><div class=\"sk-container\" hidden><div class=\"sk-item\"><div class=\"sk-estimator sk-toggleable\"><input class=\"sk-toggleable__control sk-hidden--visually\" id=\"sk-estimator-id-1\" type=\"checkbox\" checked><label for=\"sk-estimator-id-1\" class=\"sk-toggleable__label sk-toggleable__label-arrow\">RandomForestRegressor</label><div class=\"sk-toggleable__content\"><pre>RandomForestRegressor(max_depth=1, max_features=0.1, n_estimators=210,\n",
              "                      random_state=42)</pre></div></div></div></div></div>"
            ]
          },
          "metadata": {},
          "execution_count": 18
        }
      ]
    },
    {
      "cell_type": "code",
      "source": [
        "score = optimized_rf.score(X_test, y_test)\n",
        "print(f\"Test R^2 Score with Optimized Hyperparameters: {score}\")"
      ],
      "metadata": {
        "id": "a-BkbbmCFTOe",
        "outputId": "47c05851-893d-4838-88cd-2c067c186107",
        "colab": {
          "base_uri": "https://localhost:8080/"
        }
      },
      "execution_count": 19,
      "outputs": [
        {
          "output_type": "stream",
          "name": "stdout",
          "text": [
            "Test R^2 Score with Optimized Hyperparameters: 0.11323487205843263\n"
          ]
        }
      ]
    },
    {
      "cell_type": "code",
      "source": [],
      "metadata": {
        "id": "2bflRjamFVPB"
      },
      "execution_count": null,
      "outputs": []
    }
  ]
}